{
 "cells": [
  {
   "cell_type": "code",
   "execution_count": 1,
   "id": "a8695de7",
   "metadata": {},
   "outputs": [],
   "source": [
    "from PIL import Image\n",
    "from tqdm import tqdm\n",
    "from pathlib import Path\n",
    "import time\n",
    "import os  \n",
    "\n",
    "import torchaudio\n",
    "import torch\n",
    "import torch.nn as nn\n",
    "import torch.nn.functional as F\n",
    "import torch.optim as optim\n",
    "from torch.utils.data import Dataset, DataLoader\n",
    "from torchvision import transforms"
   ]
  },
  {
   "cell_type": "markdown",
   "id": "216265a8",
   "metadata": {},
   "source": [
    "# Data Check"
   ]
  },
  {
   "cell_type": "code",
   "execution_count": 2,
   "id": "091549bc",
   "metadata": {},
   "outputs": [
    {
     "name": "stdout",
     "output_type": "stream",
     "text": [
      "C:\\Users\\User\\GCT634 Final\\Sub-URMP\\chunk\\train\n"
     ]
    }
   ],
   "source": [
    "cd C:\\Users\\User\\GCT634 Final\\Sub-URMP\\chunk\\train"
   ]
  },
  {
   "cell_type": "code",
   "execution_count": 3,
   "id": "cc986c8b",
   "metadata": {},
   "outputs": [
    {
     "name": "stdout",
     "output_type": "stream",
     "text": [
      "Train (Chunk)\n",
      "bassoon:1735\n",
      "cello:9800\n",
      "clarinet:8125\n",
      "double_bass:1270\n",
      "flute:5690\n",
      "horn:5540\n",
      "oboe:4505\n",
      "sax:7615\n",
      "trombone:8690\n",
      "trumpet:1015\n",
      "tuba:3285\n",
      "viola:6530\n",
      "violin:7430\n",
      "71230\n"
     ]
    }
   ],
   "source": [
    "print(\"Train (Chunk)\")\n",
    "cwd = os.getcwd()\n",
    "list = os.listdir(cwd)\n",
    "Total=0\n",
    "for i in list:\n",
    "    temp = os.listdir(os.path.join(cwd,i))\n",
    "    print(i+\":\"+str(len(temp)))\n",
    "    Total += len(temp)\n",
    "print(Total)"
   ]
  },
  {
   "cell_type": "code",
   "execution_count": 4,
   "id": "aadb35c9",
   "metadata": {},
   "outputs": [
    {
     "name": "stdout",
     "output_type": "stream",
     "text": [
      "C:\\Users\\User\\GCT634 Final\\Sub-URMP\\img\\train\n"
     ]
    }
   ],
   "source": [
    "cd C:\\Users\\User\\GCT634 Final\\Sub-URMP\\img\\train"
   ]
  },
  {
   "cell_type": "code",
   "execution_count": 5,
   "id": "aeeebd4c",
   "metadata": {},
   "outputs": [
    {
     "name": "stdout",
     "output_type": "stream",
     "text": [
      "Train (Img)\n",
      "bassoon:1735\n",
      "cello:9800\n",
      "clarinet:8125\n",
      "double_bass:1270\n",
      "flute:5690\n",
      "horn:5540\n",
      "oboe:4505\n",
      "sax:7615\n",
      "trombone:8690\n",
      "trumpet:1015\n",
      "tuba:3285\n",
      "viola:6530\n",
      "violin:7430\n",
      "71230\n"
     ]
    }
   ],
   "source": [
    "print(\"Train (Img)\")\n",
    "cwd = os.getcwd()\n",
    "list = os.listdir(cwd)\n",
    "Total=0\n",
    "for i in list:\n",
    "    temp = os.listdir(os.path.join(cwd,i))\n",
    "    print(i+\":\"+str(len(temp)))\n",
    "    Total += len(temp)\n",
    "print(Total)"
   ]
  },
  {
   "cell_type": "code",
   "execution_count": 6,
   "id": "bfd62479",
   "metadata": {},
   "outputs": [
    {
     "name": "stdout",
     "output_type": "stream",
     "text": [
      "C:\\Users\\User\\GCT634 Final\\Sub-URMP\\chunk\\test\n"
     ]
    }
   ],
   "source": [
    "cd C:\\Users\\User\\GCT634 Final\\Sub-URMP\\chunk\\test"
   ]
  },
  {
   "cell_type": "code",
   "execution_count": 7,
   "id": "b5d11478",
   "metadata": {},
   "outputs": [
    {
     "name": "stdout",
     "output_type": "stream",
     "text": [
      "Test (Chunk)\n",
      "bassoon:390\n",
      "cello:1030\n",
      "clarinet:945\n",
      "double_bass:1180\n",
      "flute:925\n",
      "horn:525\n",
      "oboe:390\n",
      "sax:910\n",
      "trombone:805\n",
      "trumpet:520\n",
      "tuba:525\n",
      "viola:485\n",
      "violin:945\n",
      "9575\n"
     ]
    }
   ],
   "source": [
    "print(\"Test (Chunk)\")\n",
    "cwd = os.getcwd()\n",
    "list = os.listdir(cwd)\n",
    "Total=0\n",
    "for i in list:\n",
    "    temp = os.listdir(os.path.join(cwd,i))\n",
    "    print(i+\":\"+str(len(temp)))\n",
    "    Total += len(temp)\n",
    "print(Total)"
   ]
  },
  {
   "cell_type": "code",
   "execution_count": 8,
   "id": "81aa87ce",
   "metadata": {},
   "outputs": [
    {
     "name": "stdout",
     "output_type": "stream",
     "text": [
      "C:\\Users\\User\\GCT634 Final\\Sub-URMP\\img\\test\n"
     ]
    }
   ],
   "source": [
    "cd C:\\Users\\User\\GCT634 Final\\Sub-URMP\\img\\test"
   ]
  },
  {
   "cell_type": "code",
   "execution_count": 9,
   "id": "5c0461f0",
   "metadata": {},
   "outputs": [
    {
     "name": "stdout",
     "output_type": "stream",
     "text": [
      "Test (Img)\n",
      "bassoon:390\n",
      "cello:1030\n",
      "clarinet:945\n",
      "double_bass:1180\n",
      "flute:925\n",
      "horn:525\n",
      "oboe:390\n",
      "sax:910\n",
      "trombone:805\n",
      "trumpet:520\n",
      "tuba:525\n",
      "viola:485\n",
      "violin:945\n",
      "9575\n"
     ]
    }
   ],
   "source": [
    "print(\"Test (Img)\")\n",
    "cwd = os.getcwd()\n",
    "list = os.listdir(cwd)\n",
    "Total=0\n",
    "for i in list:\n",
    "    temp = os.listdir(os.path.join(cwd,i))\n",
    "    print(i+\":\"+str(len(temp)))\n",
    "    Total += len(temp)\n",
    "print(Total)"
   ]
  },
  {
   "cell_type": "markdown",
   "id": "78450a4e",
   "metadata": {},
   "source": [
    "# Change File name"
   ]
  },
  {
   "cell_type": "code",
   "execution_count": 10,
   "id": "39764211",
   "metadata": {},
   "outputs": [],
   "source": [
    "def ChangeFileName(path, filetype):\n",
    "    j = os.listdir(path)\n",
    "    for instrumentclass in j:\n",
    "        idx = 1\n",
    "        i = os.listdir(os.path.join(path,instrumentclass))\n",
    "        renamepath = os.path.join(path,instrumentclass)\n",
    "        for eachdata in i:\n",
    "            #print(os.path.join(renamepath, eachdata))\n",
    "            os.rename(os.path.join(renamepath, eachdata), os.path.join(renamepath, str(idx)+'.'+filetype))\n",
    "            idx += 1"
   ]
  },
  {
   "cell_type": "code",
   "execution_count": 11,
   "id": "bfc2802e",
   "metadata": {},
   "outputs": [
    {
     "data": {
      "text/plain": [
       "\"\\nChangeFileName('C:/Users/User/GCT634 Final/Sub-URMP/chunk/train', 'wav')\\nChangeFileName('C:/Users/User/GCT634 Final/Sub-URMP/chunk/test', 'wav')\\nChangeFileName('C:/Users/User/GCT634 Final/Sub-URMP/img/train', 'jpg')\\nChangeFileName('C:/Users/User/GCT634 Final/Sub-URMP/img/test', 'jpg')\\n\""
      ]
     },
     "execution_count": 11,
     "metadata": {},
     "output_type": "execute_result"
    }
   ],
   "source": [
    "# GCT634 Final --> your directory name\n",
    "'''\n",
    "ChangeFileName('C:/Users/User/GCT634 Final/Sub-URMP/chunk/train', 'wav')\n",
    "ChangeFileName('C:/Users/User/GCT634 Final/Sub-URMP/chunk/test', 'wav')\n",
    "ChangeFileName('C:/Users/User/GCT634 Final/Sub-URMP/img/train', 'jpg')\n",
    "ChangeFileName('C:/Users/User/GCT634 Final/Sub-URMP/img/test', 'jpg')\n",
    "'''"
   ]
  },
  {
   "cell_type": "markdown",
   "id": "31824135",
   "metadata": {},
   "source": [
    "# Dataset and DataLoader"
   ]
  },
  {
   "cell_type": "code",
   "execution_count": 12,
   "id": "9094c457",
   "metadata": {},
   "outputs": [],
   "source": [
    "class SubURMP(Dataset):\n",
    "    \"\"\"Customized SubURMP Dataset.\n",
    "    datset\n",
    "        `-- SubURMP\n",
    "            |-- img\n",
    "                |-- train\n",
    "                    |-- bassoon\n",
    "                        |-- 0001.jpg\n",
    "                        |-- ...\n",
    "                        `-- 1735.jpg\n",
    "                    |-- ...\n",
    "                    `-- violin\n",
    "                        |-- 0001.jpg\n",
    "                        |-- ...\n",
    "                        `-- 7430.jpg\n",
    "                `-- test\n",
    "                    |-- bassoon\n",
    "                        |-- 0001.jpg\n",
    "                        |-- ...\n",
    "                        `-- 0390.jpg\n",
    "                    |-- ...\n",
    "                    `-- violin\n",
    "                        |-- 0001.jpg\n",
    "                        |-- ...\n",
    "                        `-- 0945.jpg\n",
    "            |-- chunk\n",
    "                |-- train\n",
    "                    |-- bassoon\n",
    "                        |-- 0001.wav\n",
    "                        |-- ...\n",
    "                        `-- 1735.wav\n",
    "                    |-- ...\n",
    "                    `-- violin\n",
    "                        |-- 0001.wav\n",
    "                        |-- ...\n",
    "                        `-- 7430.wav\n",
    "                `-- test\n",
    "                    |-- bassoon\n",
    "                        |-- 0001.wav\n",
    "                        |-- ...\n",
    "                        `-- 0390.wav\n",
    "                    |-- ...\n",
    "                    `-- violin\n",
    "                        |-- 0001.wav\n",
    "                        |-- ...\n",
    "                        `-- 0945.wav\n",
    "                # Train\n",
    "                bassoon:1735\n",
    "                cello:9800\n",
    "                clarinet:8125\n",
    "                double_bass:1270\n",
    "                flute:5690\n",
    "                horn:5540\n",
    "                oboe:4505\n",
    "                sax:7615\n",
    "                trombone:8690\n",
    "                trumpet:1015\n",
    "                tuba:3285\n",
    "                viola:6530\n",
    "                violin:7430 \n",
    "\n",
    "                # Test\n",
    "                bassoon:390\n",
    "                cello:1030\n",
    "                clarinet:945\n",
    "                double_bass:1180\n",
    "                flute:925\n",
    "                horn:525\n",
    "                oboe:390\n",
    "                sax:910\n",
    "                trombone:805\n",
    "                trumpet:520\n",
    "                tuba:525\n",
    "                viola:485\n",
    "                violin:945    \n",
    "    \"\"\"\n",
    " \n",
    "    def __init__(self, root, train=True, transform=None):\n",
    "        super(SubURMP, self).__init__()\n",
    "        self.root = root\n",
    "        self.transform = transform \n",
    "        self.instruments = ['bassoon', 'cello', 'clarinet', 'double_bass', 'flute', 'horn', 'oboe', 'sax', 'trombone', 'trumpet', 'tuba', 'viola', 'violin']\n",
    "        self.how_many_train = [1735, 9800, 8125, 1270, 5690, 5540, 4505, 7615, 8690, 1015, 3285, 6530, 7430]\n",
    "        self.how_many_test = [390, 1030, 945, 1180, 925, 525, 390, 910, 805, 520, 525, 485, 945]\n",
    "        \n",
    "        if train==True:\n",
    "          dummy_img_paths = [self.root+'Sub-URMP/img/train/'+self.instruments[i]+'/'+str(j+1)+ '.jpg' for i in range(len(self.instruments)) for j in range(self.how_many_train[i])]\n",
    "          dummy_chunk_paths = [self.root+'Sub-URMP/chunk/train/'+self.instruments[i]+'/'+str(j+1)+ '.wav' for i in range(len(self.instruments)) for j in range(self.how_many_train[i])]\n",
    "        else:\n",
    "          dummy_img_paths = [self.root+'Sub-URMP/img/test/'+self.instruments[i]+'/'+str(j+1)+ '.jpg' for i in range(len(self.instruments)) for j in range(self.how_many_test[i])]\n",
    "          dummy_chunk_paths = [self.root+'Sub-URMP/chunk/test/'+self.instruments[i]+'/'+str(j+1)+ '.wav' for i in range(len(self.instruments)) for j in range(self.how_many_test[i])]\n",
    "        self.img_paths = dummy_img_paths\n",
    "        self.chunk_paths = dummy_chunk_paths\n",
    "        \n",
    "        assert isinstance(self.img_paths, type(list)), 'Wrong type. self.paths should be list.'\n",
    "        if train is True:\n",
    "            assert len(self.img_paths) == 71230, 'There are 71,230 train images, but you have gathered %d image paths' % len(self.img_paths)\n",
    "        else:\n",
    "            assert len(self.img_paths) == 9575, 'There are 9,575 test images, but you have gathered %d image paths' % len(self.img_paths)\n",
    "        \n",
    "    def __getitem__(self, idx):\n",
    "        img_path = self.img_paths[idx]\n",
    "        chunk_path = self.chunk_paths[idx]\n",
    "        class_label = (self.instruments).index(img_path.split('/')[7])\n",
    "        label = torch.tensor(class_label).long()\n",
    "        \n",
    "        image = Image.open(img_path)\n",
    "        if self.transform is not None:\n",
    "            image = self.transform(image) \n",
    "        ## imag resize 추가하기\n",
    "               \n",
    "        chunk, sr = torchaudio.load(chunk_path)\n",
    "        ## Spectrogam 변환 \n",
    "        \n",
    "        return image, chunk, label\n",
    "    \n",
    "    def __len__(self):\n",
    "        return len(self.img_paths)"
   ]
  },
  {
   "cell_type": "code",
   "execution_count": 13,
   "id": "157547bf",
   "metadata": {},
   "outputs": [
    {
     "name": "stdout",
     "output_type": "stream",
     "text": [
      "num data: 71230\n",
      "image shape: torch.Size([3, 1080, 1920]) | type: torch.float32\n",
      "chunk shape: torch.Size([2, 22050]) | type: torch.float32\n",
      "label: tensor(1)\n"
     ]
    }
   ],
   "source": [
    "data_dir = 'C:/Users/User/GCT634 Final/'\n",
    "train = True\n",
    "transform = transforms.ToTensor()\n",
    "\n",
    "dset = SubURMP(data_dir, train, transform)\n",
    "print('num data:', len(dset))\n",
    "\n",
    "image_temp, chunk_temp, label_temp = dset[1735]\n",
    "print('image shape:', image_temp.shape, '| type:', image_temp.dtype)\n",
    "print('chunk shape:', chunk_temp.shape, '| type:', chunk_temp.dtype)\n",
    "print('label:', label_temp) "
   ]
  },
  {
   "cell_type": "code",
   "execution_count": 14,
   "id": "bdfbce0f",
   "metadata": {},
   "outputs": [],
   "source": [
    "from torch.utils.data.dataset import random_split\n",
    "def get_dataloader(arg):\n",
    "    transform = transforms.Compose([\n",
    "        transforms.ToTensor(),\n",
    "        ])    \n",
    "    dataset = SubURMP(args.dataroot, train=True, transform=transform)    \n",
    "    train_dataset, valid_dataset = random_split(dataset, [int(len(dataset) * 0.80), len(dataset)-int(len(dataset) * 0.80)])\n",
    "    test_dataset = SubURMP(args.dataroot, train=False, transform=transform)\n",
    "\n",
    "    train_dataloader = DataLoader(train_dataset, batch_size=args.batch_size, shuffle=True, drop_last=True)\n",
    "    valid_dataloader = DataLoader(valid_dataset, batch_size=args.batch_size, shuffle=True, drop_last=False)\n",
    "    test_dataloader = DataLoader(test_dataset, batch_size=args.batch_size, shuffle=False, drop_last=False)\n",
    "\n",
    "    return train_dataloader, valid_dataloader, test_dataloader"
   ]
  },
  {
   "cell_type": "markdown",
   "id": "ff9c0602",
   "metadata": {},
   "source": [
    "# Train / Test Pipeline"
   ]
  },
  {
   "cell_type": "code",
   "execution_count": 15,
   "id": "08a63265",
   "metadata": {},
   "outputs": [],
   "source": [
    "from easydict import EasyDict as edict\n",
    "\n",
    "args = edict()\n",
    "\n",
    "args.name = 'baseline'                  \n",
    "args.resume = False                  \n",
    "args.ckpt_dir = 'ckpts'              \n",
    "args.ckpt_reload = '10'              \n",
    "args.gpu = True                      \n",
    "\n",
    "# data options\n",
    "args.dataroot = 'C:/Users/User/GCT634 Final/' \n",
    "args.batch_size = 16              \n",
    "\n",
    "# training options\n",
    "args.lr = 0.001                   \n",
    "args.epoch = 50                   \n",
    "\n",
    "# tensorboard options\n",
    "args.tensorboard = True           \n",
    "args.log_dir = 'logs'             \n",
    "args.log_iter = 100               "
   ]
  },
  {
   "cell_type": "code",
   "execution_count": 16,
   "id": "0d67a517",
   "metadata": {},
   "outputs": [],
   "source": [
    "train_dataloader, valid_dataloader, test_dataloader = get_dataloader(args)"
   ]
  },
  {
   "cell_type": "code",
   "execution_count": 19,
   "id": "1c6487e8",
   "metadata": {},
   "outputs": [],
   "source": [
    "def train(args):\n",
    "\n",
    "    device = 'cuda' if torch.cuda.is_available() and args.gpu else 'cpu'\n",
    "\n",
    "    for image, chunk, label in train_dataloader:\n",
    "        image = image.to(device) \n",
    "        chunk = chunk.to(device)\n",
    "        label = label.to(device)\n",
    "        print(\"image.shape:\",image.shape)\n",
    "        print(\"chunk.shape:\",chunk.shape)\n",
    "        print(\"label.shape:\",label.shape)\n",
    "        break\n",
    "        \n",
    "    for image, chunk, label in valid_dataloader:\n",
    "        image = image.to(device) \n",
    "        chunk = chunk.to(device)\n",
    "        label = label.to(device)\n",
    "        print(\"image.shape:\",image.shape)\n",
    "        print(\"chunk.shape:\",chunk.shape)\n",
    "        print(\"label.shape:\",label.shape)\n",
    "        break     "
   ]
  },
  {
   "cell_type": "code",
   "execution_count": 20,
   "id": "07c533a5",
   "metadata": {
    "scrolled": true
   },
   "outputs": [
    {
     "name": "stdout",
     "output_type": "stream",
     "text": [
      "image.shape: torch.Size([16, 3, 1080, 1920])\n",
      "chunk.shape: torch.Size([16, 2, 22050])\n",
      "label.shape: torch.Size([16])\n",
      "image.shape: torch.Size([16, 3, 1080, 1920])\n",
      "chunk.shape: torch.Size([16, 2, 22050])\n",
      "label.shape: torch.Size([16])\n"
     ]
    }
   ],
   "source": [
    "train(args)"
   ]
  }
 ],
 "metadata": {
  "kernelspec": {
   "display_name": "Python 3 (ipykernel)",
   "language": "python",
   "name": "python3"
  },
  "language_info": {
   "codemirror_mode": {
    "name": "ipython",
    "version": 3
   },
   "file_extension": ".py",
   "mimetype": "text/x-python",
   "name": "python",
   "nbconvert_exporter": "python",
   "pygments_lexer": "ipython3",
   "version": "3.7.11"
  }
 },
 "nbformat": 4,
 "nbformat_minor": 5
}
